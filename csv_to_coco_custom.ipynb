{
 "cells": [
  {
   "cell_type": "code",
   "execution_count": 1,
   "id": "acute-invasion",
   "metadata": {},
   "outputs": [],
   "source": [
    "import numpy as np\n",
    "import cv2, os, shutil, glob, random, json\n",
    "from PIL import Image\n",
    "from cv2 import imread, imwrite\n",
    "# from skimage.morphology import skeletonize, skeletonize_3d\n",
    "# import helper as hp\n",
    "# import geopandas as gpd\n",
    "# import geojson as gjs\n",
    "# import shapely, random\n",
    "import pandas as pd\n",
    "# from shapely.geometry import *\n",
    "from PIL import Image\n",
    "import PIL\n",
    "\n",
    "# from helper import *"
   ]
  },
  {
   "cell_type": "code",
   "execution_count": 2,
   "id": "promotional-motel",
   "metadata": {},
   "outputs": [],
   "source": [
    "def addCol(df):\n",
    "    df.columns = ['filename', 'xmin', 'ymin', 'xmax', 'ymax', 'label']\n",
    "    return df"
   ]
  },
  {
   "cell_type": "code",
   "execution_count": 3,
   "id": "embedded-finger",
   "metadata": {},
   "outputs": [
    {
     "data": {
      "text/html": [
       "<div>\n",
       "<style scoped>\n",
       "    .dataframe tbody tr th:only-of-type {\n",
       "        vertical-align: middle;\n",
       "    }\n",
       "\n",
       "    .dataframe tbody tr th {\n",
       "        vertical-align: top;\n",
       "    }\n",
       "\n",
       "    .dataframe thead th {\n",
       "        text-align: right;\n",
       "    }\n",
       "</style>\n",
       "<table border=\"1\" class=\"dataframe\">\n",
       "  <thead>\n",
       "    <tr style=\"text-align: right;\">\n",
       "      <th></th>\n",
       "      <th>filename</th>\n",
       "      <th>xmin</th>\n",
       "      <th>ymin</th>\n",
       "      <th>xmax</th>\n",
       "      <th>ymax</th>\n",
       "      <th>label</th>\n",
       "    </tr>\n",
       "  </thead>\n",
       "  <tbody>\n",
       "    <tr>\n",
       "      <th>0</th>\n",
       "      <td>/media/hdd/cesar_workspace/keras-retinanet-mas...</td>\n",
       "      <td>264</td>\n",
       "      <td>401</td>\n",
       "      <td>344</td>\n",
       "      <td>433</td>\n",
       "      <td>Go_straight_turn_right</td>\n",
       "    </tr>\n",
       "    <tr>\n",
       "      <th>1</th>\n",
       "      <td>/media/hdd/cesar_workspace/keras-retinanet-mas...</td>\n",
       "      <td>185</td>\n",
       "      <td>481</td>\n",
       "      <td>243</td>\n",
       "      <td>512</td>\n",
       "      <td>Speed_limit</td>\n",
       "    </tr>\n",
       "    <tr>\n",
       "      <th>2</th>\n",
       "      <td>/media/hdd/cesar_workspace/keras-retinanet-mas...</td>\n",
       "      <td>414</td>\n",
       "      <td>190</td>\n",
       "      <td>495</td>\n",
       "      <td>227</td>\n",
       "      <td>Turn_left_go_straight</td>\n",
       "    </tr>\n",
       "    <tr>\n",
       "      <th>3</th>\n",
       "      <td>/media/hdd/cesar_workspace/keras-retinanet-mas...</td>\n",
       "      <td>438</td>\n",
       "      <td>142</td>\n",
       "      <td>512</td>\n",
       "      <td>174</td>\n",
       "      <td>Go_straight_turn_right</td>\n",
       "    </tr>\n",
       "    <tr>\n",
       "      <th>4</th>\n",
       "      <td>/media/hdd/cesar_workspace/keras-retinanet-mas...</td>\n",
       "      <td>482</td>\n",
       "      <td>172</td>\n",
       "      <td>512</td>\n",
       "      <td>299</td>\n",
       "      <td>U-turn-left_turn</td>\n",
       "    </tr>\n",
       "  </tbody>\n",
       "</table>\n",
       "</div>"
      ],
      "text/plain": [
       "                                            filename  xmin  ymin  xmax  ymax  \\\n",
       "0  /media/hdd/cesar_workspace/keras-retinanet-mas...   264   401   344   433   \n",
       "1  /media/hdd/cesar_workspace/keras-retinanet-mas...   185   481   243   512   \n",
       "2  /media/hdd/cesar_workspace/keras-retinanet-mas...   414   190   495   227   \n",
       "3  /media/hdd/cesar_workspace/keras-retinanet-mas...   438   142   512   174   \n",
       "4  /media/hdd/cesar_workspace/keras-retinanet-mas...   482   172   512   299   \n",
       "\n",
       "                    label  \n",
       "0  Go_straight_turn_right  \n",
       "1             Speed_limit  \n",
       "2   Turn_left_go_straight  \n",
       "3  Go_straight_turn_right  \n",
       "4        U-turn-left_turn  "
      ]
     },
     "execution_count": 3,
     "metadata": {},
     "output_type": "execute_result"
    }
   ],
   "source": [
    "path_e = '/media/hdd/cesar_workspace/keras-retinanet-master/keras-retinanet-master/csv_data/Lanes/'\n",
    "all_lanes = path_e + 'all_labels_20k.txt'\n",
    "df = pd.read_csv(all_lanes)\n",
    "# df.columns = ['filename', 'xmin', 'ymin', 'xmax', 'ymax', 'label']\n",
    "df = addCol(df)\n",
    "df.head()"
   ]
  },
  {
   "cell_type": "code",
   "execution_count": 5,
   "id": "disabled-arabic",
   "metadata": {},
   "outputs": [
    {
     "data": {
      "text/plain": [
       "(45737, 2737)"
      ]
     },
     "execution_count": 5,
     "metadata": {},
     "output_type": "execute_result"
    }
   ],
   "source": [
    "path_e = '/media/hdd/cesar_workspace/keras-retinanet-master/keras-retinanet-master/csv_data/Lanes/'\n",
    "train_e = path_e + 'train_lanes_20k.txt'\n",
    "val_e = path_e + 'val_lanes_20k.txt'\n",
    "\n",
    "train_files = pd.read_csv(train_e)\n",
    "val_files = pd.read_csv(val_e)\n",
    "train_files = addCol(train_files)\n",
    "val_v2 = addCol(val_files)\n",
    "len(train_files), len(val_files)\n"
   ]
  },
  {
   "cell_type": "code",
   "execution_count": 6,
   "id": "streaming-sperm",
   "metadata": {},
   "outputs": [
    {
     "data": {
      "text/html": [
       "<div>\n",
       "<style scoped>\n",
       "    .dataframe tbody tr th:only-of-type {\n",
       "        vertical-align: middle;\n",
       "    }\n",
       "\n",
       "    .dataframe tbody tr th {\n",
       "        vertical-align: top;\n",
       "    }\n",
       "\n",
       "    .dataframe thead th {\n",
       "        text-align: right;\n",
       "    }\n",
       "</style>\n",
       "<table border=\"1\" class=\"dataframe\">\n",
       "  <thead>\n",
       "    <tr style=\"text-align: right;\">\n",
       "      <th></th>\n",
       "      <th>filename</th>\n",
       "      <th>xmin</th>\n",
       "      <th>ymin</th>\n",
       "      <th>xmax</th>\n",
       "      <th>ymax</th>\n",
       "      <th>label</th>\n",
       "    </tr>\n",
       "  </thead>\n",
       "  <tbody>\n",
       "    <tr>\n",
       "      <th>0</th>\n",
       "      <td>/media/hdd/cesar_workspace/keras-retinanet-mas...</td>\n",
       "      <td>264</td>\n",
       "      <td>401</td>\n",
       "      <td>344</td>\n",
       "      <td>433</td>\n",
       "      <td>Go_straight_turn_right</td>\n",
       "    </tr>\n",
       "    <tr>\n",
       "      <th>1</th>\n",
       "      <td>/media/hdd/cesar_workspace/keras-retinanet-mas...</td>\n",
       "      <td>185</td>\n",
       "      <td>481</td>\n",
       "      <td>243</td>\n",
       "      <td>512</td>\n",
       "      <td>Speed_limit</td>\n",
       "    </tr>\n",
       "    <tr>\n",
       "      <th>2</th>\n",
       "      <td>/media/hdd/cesar_workspace/keras-retinanet-mas...</td>\n",
       "      <td>414</td>\n",
       "      <td>190</td>\n",
       "      <td>495</td>\n",
       "      <td>227</td>\n",
       "      <td>Turn_left_go_straight</td>\n",
       "    </tr>\n",
       "    <tr>\n",
       "      <th>3</th>\n",
       "      <td>/media/hdd/cesar_workspace/keras-retinanet-mas...</td>\n",
       "      <td>438</td>\n",
       "      <td>142</td>\n",
       "      <td>512</td>\n",
       "      <td>174</td>\n",
       "      <td>Go_straight_turn_right</td>\n",
       "    </tr>\n",
       "    <tr>\n",
       "      <th>4</th>\n",
       "      <td>/media/hdd/cesar_workspace/keras-retinanet-mas...</td>\n",
       "      <td>482</td>\n",
       "      <td>172</td>\n",
       "      <td>512</td>\n",
       "      <td>299</td>\n",
       "      <td>U-turn-left_turn</td>\n",
       "    </tr>\n",
       "  </tbody>\n",
       "</table>\n",
       "</div>"
      ],
      "text/plain": [
       "                                            filename  xmin  ymin  xmax  ymax  \\\n",
       "0  /media/hdd/cesar_workspace/keras-retinanet-mas...   264   401   344   433   \n",
       "1  /media/hdd/cesar_workspace/keras-retinanet-mas...   185   481   243   512   \n",
       "2  /media/hdd/cesar_workspace/keras-retinanet-mas...   414   190   495   227   \n",
       "3  /media/hdd/cesar_workspace/keras-retinanet-mas...   438   142   512   174   \n",
       "4  /media/hdd/cesar_workspace/keras-retinanet-mas...   482   172   512   299   \n",
       "\n",
       "                    label  \n",
       "0  Go_straight_turn_right  \n",
       "1             Speed_limit  \n",
       "2   Turn_left_go_straight  \n",
       "3  Go_straight_turn_right  \n",
       "4        U-turn-left_turn  "
      ]
     },
     "execution_count": 6,
     "metadata": {},
     "output_type": "execute_result"
    }
   ],
   "source": [
    "train_files.head()"
   ]
  },
  {
   "cell_type": "raw",
   "id": "checked-equivalent",
   "metadata": {},
   "source": []
  },
  {
   "cell_type": "code",
   "execution_count": 7,
   "id": "matched-intersection",
   "metadata": {},
   "outputs": [],
   "source": [
    "dic_marks = {'0': 'No_right_turn',\n",
    "'1':'No_left_turn',\n",
    "'2':'Prohibited_straight',\n",
    "'3':'Straight_left_turn_prohibited',\n",
    "'4':'Go_straight_not_turn_right',\n",
    "'5':'Left_right_turn_prohibited',\n",
    "'6':'No_U-turn',\n",
    "'7':'Speed_limit',\n",
    "'8':'Speed_limit_child_zone',\n",
    "'9':'Concession',\n",
    "'10':'Crosswalk',\n",
    "'11':'Bike_Priority_Road',\n",
    "'12':'Turn_left',\n",
    "'13':'Go_straight',\n",
    "'14':'Turn_right',\n",
    "'15':'Turn_left_go_straight',\n",
    "'16':'Go_straight_turn_right',\n",
    "'17':'U-turn',\n",
    "'18':'U-turn-left_turn',\n",
    "'19':'Unprotected_Left_Turn'}\n",
    "\n",
    "cat_ids = {label:key for key, label in dic_marks.items()}"
   ]
  },
  {
   "cell_type": "code",
   "execution_count": 9,
   "id": "dense-jackson",
   "metadata": {},
   "outputs": [],
   "source": [
    "all_names = {}\n",
    "val_names, train_names = list(val_files.filename.unique()) , list(train_files.filename.unique())\n",
    "names = val_names + train_names\n",
    "len(names)\n",
    "for i, name in enumerate(names):\n",
    "    all_names[name] = i"
   ]
  },
  {
   "cell_type": "code",
   "execution_count": 11,
   "id": "environmental-terror",
   "metadata": {},
   "outputs": [
    {
     "data": {
      "text/plain": [
       "17404"
      ]
     },
     "execution_count": 11,
     "metadata": {},
     "output_type": "execute_result"
    }
   ],
   "source": [
    "i"
   ]
  },
  {
   "cell_type": "code",
   "execution_count": 10,
   "id": "periodic-couple",
   "metadata": {},
   "outputs": [],
   "source": [
    "height, width = 512.0, 512.0\n"
   ]
  },
  {
   "cell_type": "code",
   "execution_count": 17,
   "id": "spectacular-union",
   "metadata": {},
   "outputs": [],
   "source": [
    "\n",
    "# base = '/keras-retinanet-master/keras-retinanet-master/road_mark_detection_dataset/'  \n",
    "base = 'keras-retinanet-master/keras-retinanet-master/road_mark_detection_dataset/BASEMAP_'\n",
    "\n",
    "def generate_coco_style(curr_file, name_file):\n",
    "    json_file = []\n",
    "    json_dict = {}\n",
    "    instance = {\"image_id\":'', \"filename\":\"\", \"height\":\"\", \"width\":\"\", \"annotations\":[]}\n",
    "    anno = {\"bbox\": [], \"bbox_mode\": 1, \"category_id\":\"\"}\n",
    "\n",
    "    for name in name_file:\n",
    "        id_ = all_names[name]\n",
    "        frames = curr_file[curr_file.filename == name]\n",
    "\n",
    "        new_name = name.replace('jpeg', 'png')\n",
    "#         new_name \n",
    "        if not os.path.isfile(new_name):\n",
    "            print(new_name)\n",
    "            continue\n",
    "        instance = {\"image_id\":id_, \"file_name\": (new_name),\"height\":height, \"width\":width, \"annotations\":[]} \n",
    "        for i,frame in frames.iterrows():\n",
    "            xmin, ymin, xmax, ymax, label = frame[1:]\n",
    "            if xmin != ',':\n",
    "                xmin, ymin, xmax, ymax = map(float, (xmin, ymin, xmax, ymax))\n",
    "                w, h = (xmax-xmin), (ymax-ymin)\n",
    "                bbox = [xmin, ymin, w, h]\n",
    "                _label = cat_ids[label]\n",
    "            else:\n",
    "                continue\n",
    "            anno = {\"bbox\": bbox, \"bbox_mode\": 1, \"category_id\": _label}\n",
    "            instance[\"annotations\"].append(anno)\n",
    "        json_file.append(instance)\n",
    "    return json_file\n"
   ]
  },
  {
   "cell_type": "code",
   "execution_count": 18,
   "id": "greek-recall",
   "metadata": {},
   "outputs": [],
   "source": [
    "train_json_file = generat_coco_style(train_files, train_names)\n",
    "val_json_file = generate_coco_style(val_files, val_names)"
   ]
  },
  {
   "cell_type": "code",
   "execution_count": 19,
   "id": "relevant-brain",
   "metadata": {},
   "outputs": [],
   "source": [
    "\n",
    "train_custom = './dataset/train.json'\n",
    "val_custom = './dataset/val.json'\n",
    "\n",
    "def save_custom(json_file, path_to_save):\n",
    "    with open(path_to_save, 'w') as fp:\n",
    "        json.dump(json_file, fp)\n",
    "        \n",
    "        "
   ]
  },
  {
   "cell_type": "code",
   "execution_count": null,
   "id": "distinguished-father",
   "metadata": {},
   "outputs": [],
   "source": [
    "save_custom(train_json_file, train_custom)\n",
    "save_custom(val_json_file, val_custom)"
   ]
  }
 ],
 "metadata": {
  "kernelspec": {
   "display_name": "Python 3",
   "language": "python",
   "name": "python3"
  },
  "language_info": {
   "codemirror_mode": {
    "name": "ipython",
    "version": 3
   },
   "file_extension": ".py",
   "mimetype": "text/x-python",
   "name": "python",
   "nbconvert_exporter": "python",
   "pygments_lexer": "ipython3",
   "version": "3.6.6"
  }
 },
 "nbformat": 4,
 "nbformat_minor": 5
}
